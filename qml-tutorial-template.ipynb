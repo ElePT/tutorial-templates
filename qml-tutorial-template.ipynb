{
 "cells": [
  {
   "cell_type": "markdown",
   "id": "938aa6be",
   "metadata": {},
   "source": [
    "# Tutorial Title"
   ]
  },
  {
   "cell_type": "markdown",
   "id": "99fa7897",
   "metadata": {},
   "source": [
    "## Overview\n",
    "\n",
    "*Overview of the tutorial*.\n",
    "\n",
    "The content of the tutorial is structured as follows:\n",
    "\n",
    "1. [Introduction](#link-intro)\n",
    "2. [Classification with QNN](#link-classification)\n",
    "    * 2.1. Defining Dataset\n",
    "    * 2.2. Defining Network\n",
    "3. [Regression with QNN](#link-regression)\n",
    "4. [Lessons Learned](#link-lessons)\n",
    "\n",
    "\n",
    "⚠️ **Note:** markdown does not allow numbered sub-lists. Depending on the length of the tutorial, we might add sub-sections manually, or just keep higher-level sections (those with ##: Introduction, Classification, Regression, Lessons Learned...)."
   ]
  },
  {
   "cell_type": "markdown",
   "id": "bd3cef9d",
   "metadata": {},
   "source": [
    "<a id='link-intro'></a>\n",
    "## (1. Introduction)\n",
    "\n",
    "The introduction is optional, and generally links to a related paper, provides some extra context or explains some theoretical terms necessary to understand the body of the tutorial."
   ]
  },
  {
   "cell_type": "markdown",
   "id": "6d9c125e",
   "metadata": {},
   "source": [
    "<a id='link-classification'></a>\n",
    "## 2. Clasification with QNN\n",
    "\n",
    "This is the first section of the tutorial body\n",
    "\n",
    "### 2.1. Defining Dataset\n",
    "\n",
    "Here we explain step 1. \n",
    "\n",
    "⚠️ Note that the steps titles are formatted as \"**Define Dataset**\" instead of  \"**Defining Dataset**\". We should try to follow this convention in all QML tutorials for consistency."
   ]
  },
  {
   "cell_type": "code",
   "execution_count": 7,
   "id": "633f09fc",
   "metadata": {},
   "outputs": [],
   "source": [
    "# Here is a code cell for step 1\n",
    "\n",
    "code = list[\"code\", \"code\"]"
   ]
  },
  {
   "cell_type": "markdown",
   "id": "cdc89c64",
   "metadata": {},
   "source": [
    "\n",
    "### 2.2. Defining Network\n",
    "\n",
    "Here we explain step 2."
   ]
  },
  {
   "cell_type": "code",
   "execution_count": 6,
   "id": "49cb148b",
   "metadata": {},
   "outputs": [],
   "source": [
    "# Here is a code cell for step 2\n",
    "\n",
    "code = list[\"code\", \"code\"]"
   ]
  },
  {
   "cell_type": "markdown",
   "id": "2774f823",
   "metadata": {},
   "source": [
    "<a id='link-regression'></a>\n",
    "## 3. Regression with QNN"
   ]
  },
  {
   "cell_type": "markdown",
   "id": "a025c163",
   "metadata": {},
   "source": [
    "<a id='link-lessons'></a>\n",
    "## 4. Lessons Learned"
   ]
  },
  {
   "cell_type": "markdown",
   "id": "3e64b3d8",
   "metadata": {},
   "source": [
    "This section provides a summary/conclusion for the tutorial.\n",
    "\n",
    "In this tutorial we learned:\n",
    "* something\n",
    "* something else\n",
    "* something else else"
   ]
  },
  {
   "cell_type": "code",
   "execution_count": 8,
   "id": "f400541d",
   "metadata": {},
   "outputs": [
    {
     "data": {
      "text/html": [
       "<h3>Version Information</h3><table><tr><th>Qiskit Software</th><th>Version</th></tr><tr><td><code>qiskit-terra</code></td><td>0.22.2</td></tr><tr><td><code>qiskit-aer</code></td><td>0.11.1</td></tr><tr><td><code>qiskit-ignis</code></td><td>0.7.1</td></tr><tr><td><code>qiskit-ibmq-provider</code></td><td>0.19.2</td></tr><tr><td><code>qiskit</code></td><td>0.39.2</td></tr><tr><th>System information</th></tr><tr><td>Python version</td><td>3.10.2</td></tr><tr><td>Python compiler</td><td>Clang 13.0.0 (clang-1300.0.29.30)</td></tr><tr><td>Python build</td><td>v3.10.2:a58ebcc701, Jan 13 2022 14:50:16</td></tr><tr><td>OS</td><td>Darwin</td></tr><tr><td>CPUs</td><td>8</td></tr><tr><td>Memory (Gb)</td><td>64.0</td></tr><tr><td colspan='2'>Tue Nov 22 12:11:53 2022 CET</td></tr></table>"
      ],
      "text/plain": [
       "<IPython.core.display.HTML object>"
      ]
     },
     "metadata": {},
     "output_type": "display_data"
    },
    {
     "data": {
      "text/html": [
       "<div style='width: 100%; background-color:#d5d9e0;padding-left: 10px; padding-bottom: 10px; padding-right: 10px; padding-top: 5px'><h3>This code is a part of Qiskit</h3><p>&copy; Copyright IBM 2017, 2022.</p><p>This code is licensed under the Apache License, Version 2.0. You may<br>obtain a copy of this license in the LICENSE.txt file in the root directory<br> of this source tree or at http://www.apache.org/licenses/LICENSE-2.0.<p>Any modifications or derivative works of this code must retain this<br>copyright notice, and modified files need to carry a notice indicating<br>that they have been altered from the originals.</p></div>"
      ],
      "text/plain": [
       "<IPython.core.display.HTML object>"
      ]
     },
     "metadata": {},
     "output_type": "display_data"
    }
   ],
   "source": [
    "import qiskit.tools.jupyter\n",
    "\n",
    "%qiskit_version_table\n",
    "%qiskit_copyright"
   ]
  }
 ],
 "metadata": {
  "kernelspec": {
   "display_name": "Python 3",
   "language": "python",
   "name": "python3"
  },
  "language_info": {
   "codemirror_mode": {
    "name": "ipython",
    "version": 3
   },
   "file_extension": ".py",
   "mimetype": "text/x-python",
   "name": "python",
   "nbconvert_exporter": "python",
   "pygments_lexer": "ipython3",
   "version": "3.10.2"
  }
 },
 "nbformat": 4,
 "nbformat_minor": 5
}
