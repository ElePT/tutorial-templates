{
 "cells": [
  {
   "cell_type": "markdown",
   "id": "938aa6be",
   "metadata": {},
   "source": [
    "# Tutorial Title"
   ]
  },
  {
   "cell_type": "markdown",
   "id": "99fa7897",
   "metadata": {},
   "source": [
    "## Overview\n",
    "\n",
    "This section is a brief summary of what the tutorial is about, and should include a table of contents like the one provided in this template.\n",
    "\n",
    "The content of the tutorial is structured as follows:\n",
    "\n",
    "1. [Introduction](#link-intro)\n",
    "2. [Classification with QNN](#link-classification)\n",
    "    * 2.1. Defining the Dataset\n",
    "    * 2.2. Defining the Network\n",
    "    * 2.3. Training\n",
    "3. [Regression with QNN](#link-regression)\n",
    "4. [Conclusion](#link-conclusion)\n",
    "\n",
    "\n",
    "⚠️ **Note:** markdown does not allow numbered sub-lists. Depending on the length of the tutorial, we might add sub-sections manually, or just keep **H2-level** sections (those with ##: Introduction, Classification, Regression, Lessons Learned...)."
   ]
  },
  {
   "cell_type": "markdown",
   "id": "bd3cef9d",
   "metadata": {},
   "source": [
    "<a id='link-intro'></a>\n",
    "## (1. Introduction)\n",
    "\n",
    "The introduction is optional, and generally links to a related paper, provides some extra context or explains some theoretical terms necessary to understand the body of the tutorial."
   ]
  },
  {
   "cell_type": "markdown",
   "id": "7be262a9",
   "metadata": {},
   "source": [
    "<a id='link-classification'></a>\n",
    "## 2. Clasification with QNN\n",
    "\n",
    "This is the first section of the tutorial body. We will first set all necessary seeds to **ensure reproducibility** of the results (⚠️).\n"
   ]
  },
  {
   "cell_type": "code",
   "execution_count": 7,
   "id": "f0340945",
   "metadata": {},
   "outputs": [],
   "source": [
    "# Add imports when needed for readability and easier reference. \n",
    "# Please try to avoid having a long block of imports with no context at the beginning of the tutorial.\n",
    "from qiskit.utils import algorithm_globals\n",
    "\n",
    "algorithm_globals.random_seed = 42"
   ]
  },
  {
   "cell_type": "markdown",
   "id": "6d9c125e",
   "metadata": {},
   "source": [
    "\n",
    "### 2.1. Defining the Dataset\n",
    "\n",
    "Here we explain step 1.\n",
    "\n",
    "⚠️ For step titles, the preference is to write verbs in their -ing form (i.e. \"Defining\").\n",
    "\n",
    "⚠️ Ideally, each step should be run within a minute. Else, users might worry if something is not working."
   ]
  },
  {
   "cell_type": "code",
   "execution_count": 3,
   "id": "633f09fc",
   "metadata": {},
   "outputs": [
    {
     "name": "stdout",
     "output_type": "stream",
     "text": [
      "[4.56060211e-31]\n"
     ]
    }
   ],
   "source": [
    "import numpy as np \n",
    "\n",
    "code = np.empty([1]) # Leave 1 empty line between import (when at the beginning of the cell) and code."
   ]
  },
  {
   "cell_type": "markdown",
   "id": "605ed6b0",
   "metadata": {},
   "source": [
    "The output should look something like this:"
   ]
  },
  {
   "cell_type": "code",
   "execution_count": 8,
   "id": "f92f6e03",
   "metadata": {},
   "outputs": [
    {
     "name": "stdout",
     "output_type": "stream",
     "text": [
      "[4.56060211e-31]\n"
     ]
    }
   ],
   "source": [
    "print(code) # Make sure that the user sees prints/plots to understan what each cell does."
   ]
  },
  {
   "cell_type": "markdown",
   "id": "cdc89c64",
   "metadata": {},
   "source": [
    "\n",
    "### 2.2. Defining the Network\n",
    "\n",
    "Here we explain step 2."
   ]
  },
  {
   "cell_type": "code",
   "execution_count": 6,
   "id": "49cb148b",
   "metadata": {},
   "outputs": [],
   "source": [
    "# Here is a code cell for step 2\n",
    "\n",
    "code = list[\"code\", \"code\"]"
   ]
  },
  {
   "cell_type": "markdown",
   "id": "2774f823",
   "metadata": {},
   "source": [
    "<a id='link-regression'></a>\n",
    "## 3. Regression with QNN\n",
    "\n",
    "Other advice for writing tutorials:\n",
    " - Try to offer the minimum, necessary explanation for users to understand the content.\n",
    " - Link to further explanatory material if and only if it is needed.\n",
    " "
   ]
  },
  {
   "cell_type": "markdown",
   "id": "a025c163",
   "metadata": {},
   "source": [
    "<a id='link-conclusion'></a>\n",
    "## 4. Conclusion"
   ]
  },
  {
   "cell_type": "markdown",
   "id": "3e64b3d8",
   "metadata": {},
   "source": [
    "This section provides a summary/conclusion for the tutorial. Should we call it **Lessons Learned**?\n",
    "\n",
    "In this tutorial we learned:\n",
    "* something\n",
    "* something else\n",
    "* something else else"
   ]
  },
  {
   "cell_type": "code",
   "execution_count": 8,
   "id": "f400541d",
   "metadata": {},
   "outputs": [
    {
     "data": {
      "text/html": [
       "<h3>Version Information</h3><table><tr><th>Qiskit Software</th><th>Version</th></tr><tr><td><code>qiskit-terra</code></td><td>0.22.2</td></tr><tr><td><code>qiskit-aer</code></td><td>0.11.1</td></tr><tr><td><code>qiskit-ignis</code></td><td>0.7.1</td></tr><tr><td><code>qiskit-ibmq-provider</code></td><td>0.19.2</td></tr><tr><td><code>qiskit</code></td><td>0.39.2</td></tr><tr><th>System information</th></tr><tr><td>Python version</td><td>3.10.2</td></tr><tr><td>Python compiler</td><td>Clang 13.0.0 (clang-1300.0.29.30)</td></tr><tr><td>Python build</td><td>v3.10.2:a58ebcc701, Jan 13 2022 14:50:16</td></tr><tr><td>OS</td><td>Darwin</td></tr><tr><td>CPUs</td><td>8</td></tr><tr><td>Memory (Gb)</td><td>64.0</td></tr><tr><td colspan='2'>Tue Nov 22 12:11:53 2022 CET</td></tr></table>"
      ],
      "text/plain": [
       "<IPython.core.display.HTML object>"
      ]
     },
     "metadata": {},
     "output_type": "display_data"
    },
    {
     "data": {
      "text/html": [
       "<div style='width: 100%; background-color:#d5d9e0;padding-left: 10px; padding-bottom: 10px; padding-right: 10px; padding-top: 5px'><h3>This code is a part of Qiskit</h3><p>&copy; Copyright IBM 2017, 2022.</p><p>This code is licensed under the Apache License, Version 2.0. You may<br>obtain a copy of this license in the LICENSE.txt file in the root directory<br> of this source tree or at http://www.apache.org/licenses/LICENSE-2.0.<p>Any modifications or derivative works of this code must retain this<br>copyright notice, and modified files need to carry a notice indicating<br>that they have been altered from the originals.</p></div>"
      ],
      "text/plain": [
       "<IPython.core.display.HTML object>"
      ]
     },
     "metadata": {},
     "output_type": "display_data"
    }
   ],
   "source": [
    "import qiskit.tools.jupyter\n",
    "\n",
    "%qiskit_version_table\n",
    "%qiskit_copyright"
   ]
  }
 ],
 "metadata": {
  "kernelspec": {
   "display_name": "Python 3",
   "language": "python",
   "name": "python3"
  },
  "language_info": {
   "codemirror_mode": {
    "name": "ipython",
    "version": 3
   },
   "file_extension": ".py",
   "mimetype": "text/x-python",
   "name": "python",
   "nbconvert_exporter": "python",
   "pygments_lexer": "ipython3",
   "version": "3.10.2"
  }
 },
 "nbformat": 4,
 "nbformat_minor": 5
}
